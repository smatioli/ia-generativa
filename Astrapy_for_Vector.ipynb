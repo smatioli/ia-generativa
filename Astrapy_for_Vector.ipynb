{
  "cells": [
    {
      "cell_type": "markdown",
      "metadata": {
        "id": "view-in-github",
        "colab_type": "text"
      },
      "source": [
        "<a href=\"https://colab.research.google.com/github/smatioli/ia-generativa/blob/main/Astrapy_for_Vector.ipynb\" target=\"_parent\"><img src=\"https://colab.research.google.com/assets/colab-badge.svg\" alt=\"Open In Colab\"/></a>"
      ]
    },
    {
      "cell_type": "markdown",
      "id": "6715bc2b",
      "metadata": {
        "id": "6715bc2b"
      },
      "source": [
        "# Astra DB with AstraPy"
      ]
    },
    {
      "cell_type": "markdown",
      "id": "9f6e9609-7293-4d46-a63a-5e0986581d70",
      "metadata": {
        "id": "9f6e9609-7293-4d46-a63a-5e0986581d70"
      },
      "source": [
        "Learn how to use your Astra DB database with AstraPy.\n",
        "\n",
        "In this quickstart, you'll create a vector collection, store a few documents on it, and run **vector searches** on it.\n",
        "\n",
        "_Prerequisites:_ Make sure you have an Astra DB instance and get ready to supply the corresponding *Token* and the *API Endpoint*\n",
        "(read more [here](https://docs.datastax.com/en/astra/home/astra.html))."
      ]
    },
    {
      "cell_type": "markdown",
      "id": "14da74b6",
      "metadata": {
        "id": "14da74b6"
      },
      "source": [
        "## Setup"
      ]
    },
    {
      "cell_type": "code",
      "execution_count": 1,
      "id": "042f832e",
      "metadata": {
        "id": "042f832e"
      },
      "outputs": [],
      "source": [
        "!pip install --quiet --upgrade astrapy"
      ]
    },
    {
      "cell_type": "markdown",
      "id": "84026946",
      "metadata": {
        "id": "84026946"
      },
      "source": [
        "### Import needed libraries"
      ]
    },
    {
      "cell_type": "code",
      "execution_count": 2,
      "id": "5b15d1a4",
      "metadata": {
        "id": "5b15d1a4"
      },
      "outputs": [],
      "source": [
        "import os, json\n",
        "from getpass import getpass\n",
        "\n",
        "from astrapy.db import AstraDB"
      ]
    },
    {
      "cell_type": "markdown",
      "id": "968c5070-24a1-4cf3-a923-2478ceaa2e37",
      "metadata": {
        "id": "968c5070-24a1-4cf3-a923-2478ceaa2e37"
      },
      "source": [
        "### Provide database credentials\n",
        "\n",
        "These are the connection parameters on your Astra dashboard. Example values:\n",
        "\n",
        "- API Endpoint: `https://01234567-89ab-cdef-0123-456789abcdef-us-east1.apps.astra.datastax.com`\n",
        "- Token: `AstraCS:6gBhNmsk135...`\n"
      ]
    },
    {
      "cell_type": "code",
      "execution_count": 3,
      "id": "0c9a7b18-e7a8-466e-8785-2becc94017fb",
      "metadata": {
        "id": "0c9a7b18-e7a8-466e-8785-2becc94017fb",
        "colab": {
          "base_uri": "https://localhost:8080/"
        },
        "outputId": "a83de4a1-1b84-4ab8-a46f-d0a2425b1e15"
      },
      "outputs": [
        {
          "name": "stdout",
          "output_type": "stream",
          "text": [
            "ASTRA_DB_API_ENDPOINT = https://b0748576-a92d-4682-86b0-13a0a04fb4dd-us-east1.apps.astra.datastax.com\n",
            "ASTRA_DB_APPLICATION_TOKEN = ··········\n"
          ]
        }
      ],
      "source": [
        "ASTRA_DB_API_ENDPOINT = input(\"ASTRA_DB_API_ENDPOINT = \")\n",
        "ASTRA_DB_APPLICATION_TOKEN = getpass(\"ASTRA_DB_APPLICATION_TOKEN = \")"
      ]
    },
    {
      "cell_type": "markdown",
      "id": "485d5347",
      "metadata": {
        "id": "485d5347"
      },
      "source": [
        "## Create a collection"
      ]
    },
    {
      "cell_type": "markdown",
      "id": "6429f29a",
      "metadata": {
        "id": "6429f29a"
      },
      "source": [
        "### Create the client"
      ]
    },
    {
      "cell_type": "code",
      "execution_count": 4,
      "id": "971edbec",
      "metadata": {
        "id": "971edbec"
      },
      "outputs": [],
      "source": [
        "astra_db = AstraDB(\n",
        "    api_endpoint=ASTRA_DB_API_ENDPOINT,\n",
        "    token=ASTRA_DB_APPLICATION_TOKEN,\n",
        ")"
      ]
    },
    {
      "cell_type": "markdown",
      "id": "13d51223",
      "metadata": {
        "id": "13d51223"
      },
      "source": [
        "### Create the collection\n",
        "\n",
        "The `create_collection` method results in a new collection on your database."
      ]
    },
    {
      "cell_type": "code",
      "execution_count": 5,
      "id": "895ae303-8e47-46ae-94b8-6d2e1e2f1113",
      "metadata": {
        "id": "895ae303-8e47-46ae-94b8-6d2e1e2f1113"
      },
      "outputs": [],
      "source": [
        "collection = astra_db.create_collection(\"test_collection\", dimension=5)"
      ]
    },
    {
      "cell_type": "markdown",
      "id": "116596b5-e199-4869-9085-87a0af281afc",
      "metadata": {
        "id": "116596b5-e199-4869-9085-87a0af281afc"
      },
      "source": [
        "Here, `dimension` is the vector dimension (or \"size\", i.e. how many numeric components your vector will have).\n",
        "\n",
        "We choose a very low number in this example for demonstration purposes, but actual embedding vectors usually are much longer.\n",
        "\n",
        "_Note:_ In case it exists already and the parameters match, this method does just return the collection -- you will get an error, instead, if you try to create a collection with the same name but a different configuration (such as a mismatching dimension)."
      ]
    },
    {
      "cell_type": "markdown",
      "id": "4d6effcf",
      "metadata": {
        "id": "4d6effcf"
      },
      "source": [
        "## Insert documents"
      ]
    },
    {
      "cell_type": "markdown",
      "id": "6b012402",
      "metadata": {
        "id": "6b012402"
      },
      "source": [
        "### Insert one document\n",
        "\n",
        "When working with vector stores, your documents can have arbitrary fields, as long as you use only letters, digits and the `_` (underscore) character, preferrably sticking to `snake_case`, in their name.\n",
        "\n",
        "In particular, note the reserved dollar sign in the field names `$vector` and `$similarity`."
      ]
    },
    {
      "cell_type": "code",
      "execution_count": 6,
      "id": "c29a6f70",
      "metadata": {
        "id": "c29a6f70",
        "colab": {
          "base_uri": "https://localhost:8080/"
        },
        "outputId": "91dd8536-7131-4672-fd82-c572fa6891a7"
      },
      "outputs": [
        {
          "output_type": "stream",
          "name": "stdout",
          "text": [
            "{'status': {'insertedIds': ['1']}}\n"
          ]
        }
      ],
      "source": [
        "v_doc1 = {\n",
        "    \"_id\": \"1\",\n",
        "    \"name\": \"Coded Cleats\",\n",
        "    \"description\": \"ChatGPT integrated sneakers that talk to you\",\n",
        "    \"$vector\": [0.25, 0.25, 0.25, 0.25, 0.25],\n",
        "}\n",
        "\n",
        "response = collection.insert_one(v_doc1)\n",
        "print(response)"
      ]
    },
    {
      "cell_type": "markdown",
      "id": "4c15f8ee-d103-4e16-8273-8fcc6eb172ba",
      "metadata": {
        "id": "4c15f8ee-d103-4e16-8273-8fcc6eb172ba"
      },
      "source": [
        "You can insert documents without any attached vector as well:"
      ]
    },
    {
      "cell_type": "code",
      "execution_count": null,
      "id": "6ea478ba",
      "metadata": {
        "id": "6ea478ba"
      },
      "outputs": [],
      "source": [
        "non_v_doc1 = {\n",
        "    \"_id\": \"Cliff1\",\n",
        "    \"first_name\": \"Cliff\",\n",
        "    \"last_name\": \"Wicklow\",\n",
        "}\n",
        "\n",
        "response = collection.insert_one(non_v_doc1)\n",
        "print(response)"
      ]
    },
    {
      "cell_type": "markdown",
      "id": "fe944cf0",
      "metadata": {
        "id": "fe944cf0"
      },
      "source": [
        "### Insert multiple documents"
      ]
    },
    {
      "cell_type": "code",
      "execution_count": 7,
      "id": "c9b5c026",
      "metadata": {
        "id": "c9b5c026",
        "colab": {
          "base_uri": "https://localhost:8080/"
        },
        "outputId": "e0c72437-2e97-40b8-ec59-9883525a05ed"
      },
      "outputs": [
        {
          "output_type": "stream",
          "name": "stdout",
          "text": [
            "{'status': {'insertedIds': ['2', '3', '4', '4b']}}\n"
          ]
        }
      ],
      "source": [
        "v_doc_list = [\n",
        "    {\n",
        "        \"_id\": \"2\",\n",
        "        \"name\": \"Logic Layers\",\n",
        "        \"description\": \"An AI quilt to help you sleep forever\",\n",
        "        \"$vector\": [0.45, 0.09, 0.01, 0.2, 0.11],\n",
        "    },\n",
        "    {\n",
        "        \"_id\": \"3\",\n",
        "        \"name\": \"Vision Vector Frame\",\n",
        "        \"description\": \"Vision Vector Frame - An AI display that controls your mood\",\n",
        "        \"$vector\": [0.1, 0.05, 0.08, 0.3, 0.6],\n",
        "    },\n",
        "    {\n",
        "        \"_id\": \"4\",\n",
        "        \"name\": \"Admirable Artefact\",\n",
        "        \"description\": \"A deep learning device whose exact purpose defies explanation\",\n",
        "        \"$vector\": [-0.04, 0.17, 0.2, -0.41, 0.11],\n",
        "    },\n",
        "    {\n",
        "        \"_id\": \"4b\",\n",
        "        \"name\": \"Admirable Artefact\",\n",
        "        \"description\": \"A cheap knockoff of the original, and it shows\",\n",
        "        \"$vector\": [0.12, 0.08, -0.11, 0.32, 0.09],\n",
        "    },\n",
        "]\n",
        "\n",
        "response = collection.insert_many(v_doc_list)\n",
        "print(response)"
      ]
    },
    {
      "cell_type": "markdown",
      "id": "c13cfc42",
      "metadata": {
        "id": "c13cfc42"
      },
      "source": [
        "## Find documents\n",
        "\n",
        "Find by `_id`:"
      ]
    },
    {
      "cell_type": "code",
      "execution_count": 8,
      "id": "f312b0ab",
      "metadata": {
        "id": "f312b0ab",
        "colab": {
          "base_uri": "https://localhost:8080/"
        },
        "outputId": "c4186c1d-2468-4458-91ab-df813895d2cf"
      },
      "outputs": [
        {
          "output_type": "stream",
          "name": "stdout",
          "text": [
            "{'data': {'document': {'_id': '2', 'name': 'Logic Layers', 'description': 'An AI quilt to help you sleep forever', '$vector': [0.45, 0.09, 0.01, 0.2, 0.11]}}}\n"
          ]
        }
      ],
      "source": [
        "document = collection.find_one(filter={\"_id\":\"2\"})\n",
        "print(document)"
      ]
    },
    {
      "cell_type": "markdown",
      "id": "1c281d57-6149-4dc7-b6b8-419bc1e6e8b2",
      "metadata": {
        "id": "1c281d57-6149-4dc7-b6b8-419bc1e6e8b2"
      },
      "source": [
        "Find by any (non-vector) filter clause:"
      ]
    },
    {
      "cell_type": "code",
      "execution_count": 9,
      "id": "66b95d09-8347-41ed-a3fc-492963192ac8",
      "metadata": {
        "id": "66b95d09-8347-41ed-a3fc-492963192ac8",
        "colab": {
          "base_uri": "https://localhost:8080/"
        },
        "outputId": "8cead017-c4ef-4828-837e-4aaeb6330a0d"
      },
      "outputs": [
        {
          "output_type": "stream",
          "name": "stdout",
          "text": [
            "{'data': {'document': {'_id': '4', 'name': 'Admirable Artefact', 'description': 'A deep learning device whose exact purpose defies explanation', '$vector': [-0.04, 0.17, 0.2, -0.41, 0.11]}}}\n"
          ]
        }
      ],
      "source": [
        "document = collection.find_one(filter={\"name\":\"Admirable Artefact\"})\n",
        "print(document)"
      ]
    },
    {
      "cell_type": "markdown",
      "id": "08302258",
      "metadata": {
        "id": "08302258"
      },
      "source": [
        "### Find by vector similarity\n",
        "\n",
        "By default, the `$similarity` field is returned with each document (note the decreasing order):"
      ]
    },
    {
      "cell_type": "code",
      "execution_count": 10,
      "id": "a8a3c1a8",
      "metadata": {
        "id": "a8a3c1a8",
        "colab": {
          "base_uri": "https://localhost:8080/"
        },
        "outputId": "0445b05b-de57-4f36-e44d-7b34660cc8b8"
      },
      "outputs": [
        {
          "output_type": "stream",
          "name": "stdout",
          "text": [
            "\n",
            "{'_id': '3', 'name': 'Vision Vector Frame', 'description': 'Vision Vector Frame - An AI display that controls your mood', '$vector': [0.1, 0.05, 0.08, 0.3, 0.6], '$similarity': 0.99444735}\n",
            "\n",
            "{'_id': '1', 'name': 'Coded Cleats', 'description': 'ChatGPT integrated sneakers that talk to you', '$vector': [0.25, 0.25, 0.25, 0.25, 0.25], '$similarity': 0.9087937}\n",
            "\n",
            "{'_id': '4b', 'name': 'Admirable Artefact', 'description': 'A cheap knockoff of the original, and it shows', '$vector': [0.12, 0.08, -0.11, 0.32, 0.09], '$similarity': 0.840839}\n",
            "\n",
            "{'_id': '2', 'name': 'Logic Layers', 'description': 'An AI quilt to help you sleep forever', '$vector': [0.45, 0.09, 0.01, 0.2, 0.11], '$similarity': 0.7967084}\n",
            "\n",
            "{'_id': '4', 'name': 'Admirable Artefact', 'description': 'A deep learning device whose exact purpose defies explanation', '$vector': [-0.04, 0.17, 0.2, -0.41, 0.11], '$similarity': 0.4240539}\n"
          ]
        }
      ],
      "source": [
        "query_vector = [0.15, 0.1, 0.1, 0.35, 0.55]\n",
        "\n",
        "documents = collection.vector_find(query_vector, limit=5)\n",
        "for document in documents:\n",
        "    print(f\"\\n{document}\")"
      ]
    },
    {
      "cell_type": "markdown",
      "id": "966ae2b7-62bb-45d6-9c63-ee5a070d7ea8",
      "metadata": {
        "id": "966ae2b7-62bb-45d6-9c63-ee5a070d7ea8"
      },
      "source": [
        "You can specify which **fields** you'll get back and/or whether you need the **similarity** as well:"
      ]
    },
    {
      "cell_type": "code",
      "execution_count": 11,
      "id": "2849712a-fef3-4ae0-984d-4dd23cb7d2b6",
      "metadata": {
        "id": "2849712a-fef3-4ae0-984d-4dd23cb7d2b6",
        "colab": {
          "base_uri": "https://localhost:8080/"
        },
        "outputId": "bd2dc73a-d3f1-45fc-a9c8-86001b40feb3"
      },
      "outputs": [
        {
          "output_type": "stream",
          "name": "stdout",
          "text": [
            "\n",
            "{'_id': '3', 'name': 'Vision Vector Frame', '$vector': [0.1, 0.05, 0.08, 0.3, 0.6]}\n",
            "\n",
            "{'_id': '1', 'name': 'Coded Cleats', '$vector': [0.25, 0.25, 0.25, 0.25, 0.25]}\n",
            "\n",
            "{'_id': '4b', 'name': 'Admirable Artefact', '$vector': [0.12, 0.08, -0.11, 0.32, 0.09]}\n",
            "\n",
            "{'_id': '2', 'name': 'Logic Layers', '$vector': [0.45, 0.09, 0.01, 0.2, 0.11]}\n",
            "\n",
            "{'_id': '4', 'name': 'Admirable Artefact', '$vector': [-0.04, 0.17, 0.2, -0.41, 0.11]}\n"
          ]
        }
      ],
      "source": [
        "documents = collection.vector_find(\n",
        "    query_vector,\n",
        "    limit=5,\n",
        "    fields=[\"name\", \"$vector\"],  # remember the dollar sign (reserved name)\n",
        "    include_similarity=False,\n",
        ")\n",
        "for document in documents:\n",
        "    print(f\"\\n{document}\")"
      ]
    },
    {
      "cell_type": "markdown",
      "id": "42c31dbe-263e-4997-b1fa-8be3613ea298",
      "metadata": {
        "id": "42c31dbe-263e-4997-b1fa-8be3613ea298"
      },
      "source": [
        "You can compound with other `filter` clauses, effectively implementing **metadata filtering** on your vector searches:"
      ]
    },
    {
      "cell_type": "code",
      "execution_count": 12,
      "id": "56201b18-9672-46a3-a63c-49b032839706",
      "metadata": {
        "id": "56201b18-9672-46a3-a63c-49b032839706",
        "colab": {
          "base_uri": "https://localhost:8080/"
        },
        "outputId": "dc33a532-df2e-481c-fa55-d10f251700c8"
      },
      "outputs": [
        {
          "output_type": "stream",
          "name": "stdout",
          "text": [
            "\n",
            "{'_id': '4b', 'name': 'Admirable Artefact', 'description': 'A cheap knockoff of the original, and it shows', '$vector': [0.12, 0.08, -0.11, 0.32, 0.09], '$similarity': 0.840839}\n",
            "\n",
            "{'_id': '4', 'name': 'Admirable Artefact', 'description': 'A deep learning device whose exact purpose defies explanation', '$vector': [-0.04, 0.17, 0.2, -0.41, 0.11], '$similarity': 0.4240539}\n"
          ]
        }
      ],
      "source": [
        "documents = collection.vector_find(\n",
        "    query_vector,\n",
        "    limit=5,\n",
        "    filter={\"name\": \"Admirable Artefact\"},\n",
        ")\n",
        "for document in documents:\n",
        "    print(f\"\\n{document}\")"
      ]
    },
    {
      "cell_type": "markdown",
      "id": "c35151b8",
      "metadata": {
        "id": "c35151b8"
      },
      "source": [
        "These options are supported for the `vector_find_one` method as well:"
      ]
    },
    {
      "cell_type": "code",
      "execution_count": 13,
      "id": "87278dda",
      "metadata": {
        "id": "87278dda",
        "colab": {
          "base_uri": "https://localhost:8080/"
        },
        "outputId": "7ae2b358-bcf1-40f9-db6b-edd4ce3e9caf"
      },
      "outputs": [
        {
          "output_type": "stream",
          "name": "stdout",
          "text": [
            "{'_id': '3', 'description': 'Vision Vector Frame - An AI display that controls your mood', '$similarity': 0.99444735}\n"
          ]
        }
      ],
      "source": [
        "fields = [\"description\"]\n",
        "\n",
        "document = collection.vector_find_one(\n",
        "    query_vector,\n",
        "    fields=[\"description\"],\n",
        "    include_similarity=True,  # not really necessary since True is the default\n",
        ")\n",
        "print(document)"
      ]
    },
    {
      "cell_type": "markdown",
      "id": "f04a1806",
      "metadata": {
        "id": "f04a1806"
      },
      "source": [
        "### Find-and-update with vector search"
      ]
    },
    {
      "cell_type": "code",
      "execution_count": 14,
      "id": "e710c0b4",
      "metadata": {
        "id": "e710c0b4",
        "colab": {
          "base_uri": "https://localhost:8080/"
        },
        "outputId": "48180453-c961-4e3c-c711-f7e6eab5bf75"
      },
      "outputs": [
        {
          "output_type": "stream",
          "name": "stdout",
          "text": [
            "{'data': {'document': {'_id': '4b', 'name': 'Admirable Artefact', 'description': 'A cheap knockoff of the original, and it shows', '$vector': [0.12, 0.08, -0.11, 0.32, 0.09], 'status': 'active'}}}\n"
          ]
        }
      ],
      "source": [
        "query_vector2 = [0.11, 0.04, -0.02, 0.54, -0.05]\n",
        "update = {\"$set\": {\"status\": \"active\"}}\n",
        "\n",
        "collection.vector_find_one_and_update(query_vector2, update=update)\n",
        "\n",
        "document = collection.find_one(filter={\"status\": \"active\"})\n",
        "print(document)"
      ]
    },
    {
      "cell_type": "markdown",
      "id": "22966c97",
      "metadata": {
        "id": "22966c97"
      },
      "source": [
        "### Find-and-replace with vector search\n",
        "\n",
        "Contrary to the above method, this one completely replaces the document. Notice for example that the _description_ field disappears:"
      ]
    },
    {
      "cell_type": "code",
      "execution_count": 15,
      "id": "779e7f4d",
      "metadata": {
        "id": "779e7f4d",
        "colab": {
          "base_uri": "https://localhost:8080/"
        },
        "outputId": "c36bfea4-41e5-455c-bf32-6bad1a89b3b2"
      },
      "outputs": [
        {
          "output_type": "stream",
          "name": "stdout",
          "text": [
            "{'data': {'document': {'_id': '3', 'name': 'Version Victor Fruit', 'summary': 'A special edition of an already awesome gizmo', '$vector': [0.2, -0.15, 0.24, 0.02, -0.41], 'status': 'inactive'}}}\n"
          ]
        }
      ],
      "source": [
        "query_vector3 = [0.1, 0.05, 0.08, 0.3, 0.6]\n",
        "replacement = {\n",
        "    \"_id\": \"3\",\n",
        "    \"name\": \"Version Victor Fruit\",\n",
        "    \"summary\": \"A special edition of an already awesome gizmo\",\n",
        "    \"$vector\": [0.2, -0.15, 0.24, 0.02, -0.41],\n",
        "    \"status\": \"inactive\",\n",
        "}\n",
        "\n",
        "collection.vector_find_one_and_replace(query_vector3, replacement=replacement)\n",
        "\n",
        "document = collection.find_one(filter={\"_id\": \"3\"})\n",
        "print(document)"
      ]
    },
    {
      "cell_type": "markdown",
      "id": "4db9bca8",
      "metadata": {
        "id": "4db9bca8"
      },
      "source": [
        "## Delete a collection"
      ]
    },
    {
      "cell_type": "code",
      "execution_count": 16,
      "id": "0d47a986",
      "metadata": {
        "id": "0d47a986",
        "colab": {
          "base_uri": "https://localhost:8080/"
        },
        "outputId": "a561eefd-9b69-4b31-c6cd-2984c6e133de"
      },
      "outputs": [
        {
          "output_type": "stream",
          "name": "stdout",
          "text": [
            "{'status': {'ok': 1}}\n"
          ]
        }
      ],
      "source": [
        "response = astra_db.delete_collection(\"test_collection\")\n",
        "print(response)"
      ]
    },
    {
      "cell_type": "code",
      "source": [],
      "metadata": {
        "id": "GhlJdj8I6oUU"
      },
      "id": "GhlJdj8I6oUU",
      "execution_count": null,
      "outputs": []
    }
  ],
  "metadata": {
    "kernelspec": {
      "display_name": "Python 3 (ipykernel)",
      "language": "python",
      "name": "python3"
    },
    "language_info": {
      "codemirror_mode": {
        "name": "ipython",
        "version": 3
      },
      "file_extension": ".py",
      "mimetype": "text/x-python",
      "name": "python",
      "nbconvert_exporter": "python",
      "pygments_lexer": "ipython3",
      "version": "3.9.17"
    },
    "colab": {
      "provenance": [],
      "include_colab_link": true
    }
  },
  "nbformat": 4,
  "nbformat_minor": 5
}