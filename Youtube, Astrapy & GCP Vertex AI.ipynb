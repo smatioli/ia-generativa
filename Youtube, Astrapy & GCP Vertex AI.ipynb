{
 "cells": [
  {
   "cell_type": "markdown",
   "id": "2167d994-b72a-4b6e-b53a-5bd65d217c88",
   "metadata": {},
   "source": [
    "# YouTube Knowledge Base\n",
    "\n",
    "Para esta caso, utilizaremos o Whisper como modelos de conversão de voz em texto. O texto extraído dos vídeos serão  armazenados, junto aos seus embeddings.\n",
    "\n",
    "Para instalar o whisper, utilizaremos o código do github (e não o pacote whisper disponível no pip)."
   ]
  },
  {
   "cell_type": "code",
   "execution_count": null,
   "id": "6bb3ea10-b2da-42ba-b905-152042fa6d84",
   "metadata": {},
   "outputs": [],
   "source": [
    "# Install whisper.ai\n",
    "!pip install git+https://github.com/openai/whisper.git --quiet"
   ]
  },
  {
   "cell_type": "code",
   "execution_count": null,
   "id": "88011005-921a-4325-8775-df9b15ec8d67",
   "metadata": {},
   "outputs": [],
   "source": [
    "# Install ffmeg\n",
    "#Mac\n",
    "!brew upgrade && brew install ffmpeg\n",
    "# Unix\n",
    "#!sudo apt update && sudo apt install ffmpeg"
   ]
  },
  {
   "cell_type": "markdown",
   "id": "0f2eab1a",
   "metadata": {},
   "source": [
    "### GPU vs CPU\n",
    "\n",
    "Se estiver executando em um ambiente com GPU, a conversão de audio em texto será mais rápida"
   ]
  },
  {
   "cell_type": "code",
   "execution_count": 1,
   "id": "1d326ffe-4722-4263-9374-7c4ca9eb1fdd",
   "metadata": {},
   "outputs": [
    {
     "data": {
      "text/plain": [
       "'cpu'"
      ]
     },
     "execution_count": 1,
     "metadata": {},
     "output_type": "execute_result"
    }
   ],
   "source": [
    "import torch\n",
    "torch.cuda.is_available()\n",
    "DEVICE = \"cuda\" if torch.cuda.is_available() else \"cpu\"\n",
    "DEVICE"
   ]
  },
  {
   "cell_type": "markdown",
   "id": "bf32ef03",
   "metadata": {},
   "source": [
    "## Instalando dependencias adicionais"
   ]
  },
  {
   "cell_type": "code",
   "execution_count": null,
   "id": "50475fda-8cf4-4c27-9fa8-5348bcd07d08",
   "metadata": {},
   "outputs": [],
   "source": [
    "!pip install pytube moviepy mock pydub python-dotenv google-cloud-aiplatform tqdm  --quiet"
   ]
  },
  {
   "cell_type": "code",
   "execution_count": null,
   "id": "7c9d93f8",
   "metadata": {},
   "outputs": [],
   "source": [
    "!pip install langchain --upgrade --quiet"
   ]
  },
  {
   "cell_type": "code",
   "execution_count": null,
   "id": "2dc10f0e",
   "metadata": {},
   "outputs": [],
   "source": [
    "!pip install astrapy --upgrade --quiet"
   ]
  },
  {
   "cell_type": "code",
   "execution_count": 2,
   "id": "3799f51c-3bb2-4a43-b091-16a882a113ae",
   "metadata": {},
   "outputs": [],
   "source": [
    "from dotenv import load_dotenv, find_dotenv\n",
    "import os\n",
    "load_dotenv(find_dotenv(), override=True)\n",
    "table_name=\"demo_vertex\""
   ]
  },
  {
   "cell_type": "markdown",
   "id": "d93e0fff-1e47-4ba8-afe7-f5f572b98ec0",
   "metadata": {},
   "source": [
    "# Youtube Extraction\n",
    "\n",
    "Este caso começa com a extração de conteúdo do youtube.\n",
    "\n",
    "Para isso, algumas funções são necessárias. Elas vão desde o download do vídeo, extração do aúdio em blocos, extração de texto dos áudios.\n",
    "\n",
    "A sequência toda está na função process_youtube"
   ]
  },
  {
   "cell_type": "code",
   "execution_count": 3,
   "id": "1b537027-9f9e-477d-9056-b276337382e3",
   "metadata": {},
   "outputs": [],
   "source": [
    "import os\n",
    "import pytube\n",
    "from tqdm import tqdm\n",
    "from moviepy.editor import *\n",
    "from pydub import AudioSegment"
   ]
  },
  {
   "cell_type": "code",
   "execution_count": 4,
   "id": "c884c410-59d2-4184-b2ec-f087ab35a7de",
   "metadata": {},
   "outputs": [],
   "source": [
    "def split_mp3(input_file, output_directory, segment_duration_sec, overlap_sec = 1):\n",
    "    segments = []\n",
    "\n",
    "    # Load the MP3 file\n",
    "    audio = AudioSegment.from_mp3(input_file)\n",
    "    segment_duration_ms = segment_duration_sec * 1000\n",
    "    overlap_ms = overlap_sec * 1000\n",
    "    # Calculate the number of segments\n",
    "    num_segments = len(audio) // ( segment_duration_ms - overlap_ms)\n",
    "\n",
    "    # Create the output directory if it doesn't exist\n",
    "    if not os.path.exists(output_directory):\n",
    "        os.makedirs(output_directory)\n",
    "\n",
    "    # Split the MP3 file into segments\n",
    "    for i in range(num_segments):\n",
    "        start_time = i * ( segment_duration_ms - overlap_ms)\n",
    "        if start_time < 0:\n",
    "          start_time = 0\n",
    "\n",
    "        end_time = (i + 1) * segment_duration_ms\n",
    "        segment = audio[start_time:end_time]\n",
    "\n",
    "        # Define the output filename\n",
    "        output_file = os.path.join(output_directory, f\"segment_{str(i + 1).zfill(5)}.mp3\")\n",
    "\n",
    "        # Export the segment as an MP3 file\n",
    "        segment.export(output_file, format=\"mp3\")\n",
    "        segments.append({\n",
    "            \"start_time\": start_time / 1000,\n",
    "            \"end_time\": end_time / 1000,\n",
    "            \"audio_file\": output_file\n",
    "        })\n",
    "\n",
    "\n",
    "        print(f\"Segment {i + 1} saved as {output_file}\")\n",
    "\n",
    "    return segments\n"
   ]
  },
  {
   "cell_type": "code",
   "execution_count": 39,
   "id": "3b982e20-433b-4d92-863c-e7b98ae7f712",
   "metadata": {},
   "outputs": [],
   "source": [
    "# Solve pytube issue: https://github.com/pytube/pytube/issues/1498\n",
    "import re\n",
    "import mock\n",
    "\n",
    "from pytube.cipher import get_throttling_function_code\n",
    "\n",
    "def patched_throttling_plan(js: str):\n",
    "    \"\"\"Patch throttling plan, from https://github.com/pytube/pytube/issues/1498\"\"\"\n",
    "    raw_code = get_throttling_function_code(js)\n",
    "\n",
    "    transform_start = r\"try{\"\n",
    "    plan_regex = re.compile(transform_start)\n",
    "    match = plan_regex.search(raw_code)\n",
    "\n",
    "    #transform_plan_raw = find_object_from_startpoint(raw_code, match.span()[1] - 1)\n",
    "    transform_plan_raw = js\n",
    "\n",
    "    # Steps are either c[x](c[y]) or c[x](c[y],c[z])\n",
    "    step_start = r\"c\\[(\\d+)\\]\\(c\\[(\\d+)\\](,c(\\[(\\d+)\\]))?\\)\"\n",
    "    step_regex = re.compile(step_start)\n",
    "    matches = step_regex.findall(transform_plan_raw)\n",
    "    transform_steps = []\n",
    "    for match in matches:\n",
    "        if match[4] != '':\n",
    "            transform_steps.append((match[0],match[1],match[4]))\n",
    "        else:\n",
    "            transform_steps.append((match[0],match[1]))\n",
    "\n",
    "    return transform_steps\n",
    "\n",
    "def download_youtube_audio(video_url, output_path):\n",
    "  try:\n",
    "    with mock.patch('pytube.cipher.get_throttling_plan', patched_throttling_plan):\n",
    "      import pytube\n",
    "      # Create a YouTube object\n",
    "      yt = pytube.YouTube(video_url)\n",
    "\n",
    "      # Get the highest resolution stream\n",
    "      video_stream = yt.streams.filter(only_audio=True).first()\n",
    "\n",
    "      # Download the audio stream\n",
    "      video_stream.download(output_path=output_path)\n",
    "\n",
    "      # Convert the downloaded file to MP3\n",
    "      mp4_file_path = os.path.join(output_path, video_stream.default_filename)\n",
    "      mp3_file_path = os.path.splitext(mp4_file_path)[0] + \".mp3\"\n",
    "\n",
    "      video_clip = AudioFileClip(mp4_file_path)\n",
    "      video_clip.write_audiofile(mp3_file_path)\n",
    "\n",
    "      # Delete the original MP4 file\n",
    "      os.remove(mp4_file_path)\n",
    "\n",
    "      print(f\"Audio downloaded and saved as {mp3_file_path}\")\n",
    "      return mp3_file_path\n",
    "  except Exception as e:\n",
    "    print(f\"An error occurred: {str(e)}\")"
   ]
  },
  {
   "cell_type": "code",
   "execution_count": 5,
   "id": "105ee43f-7251-41ac-8de1-b6a270c0aa62",
   "metadata": {},
   "outputs": [
    {
     "name": "stdout",
     "output_type": "stream",
     "text": [
      "Model is multilingual and has 762,321,920 parameters.\n"
     ]
    }
   ],
   "source": [
    "import whisper\n",
    "import numpy as np\n",
    "import pandas as pd\n",
    "\n",
    "import torch\n",
    "torch.cuda.is_available()\n",
    "DEVICE = \"cuda\" if torch.cuda.is_available() else \"cpu\"\n",
    "DEVICE\n",
    "\n",
    "model = whisper.load_model(\"medium\", device=DEVICE)\n",
    "print(\n",
    "    f\"Model is {'multilingual' if model.is_multilingual else 'English-only'} \"\n",
    "    f\"and has {sum(np.prod(p.shape) for p in model.parameters()):,} parameters.\"\n",
    ")"
   ]
  },
  {
   "cell_type": "code",
   "execution_count": 6,
   "id": "9b8ab55d-7f02-4bac-8ae0-63fd9aa6d959",
   "metadata": {},
   "outputs": [],
   "source": [
    "def decode_audio(segments):\n",
    "  segments_out = []\n",
    "  import whisper\n",
    "  import numpy as np\n",
    "  print(\"Loading model\")\n",
    "  model = whisper.load_model(\"medium\", device=DEVICE)\n",
    "  res = []\n",
    "  for segment in tqdm(segments, total=len(segments), desc=\"Extracting texts from segments\"):\n",
    "    # print(segment)\n",
    "    audio = whisper.load_audio(segment['audio_file'])\n",
    "    audio = whisper.pad_or_trim(audio)\n",
    "    mel = whisper.log_mel_spectrogram(audio).to(model.device)\n",
    "    options = whisper.DecodingOptions(language=\"pt\", fp16 = False)\n",
    "    result = whisper.decode(model, mel, options)\n",
    "    res.append({\n",
    "        **segment,\n",
    "        'text': result.text\n",
    "    })\n",
    "  return res"
   ]
  },
  {
   "cell_type": "code",
   "execution_count": 7,
   "id": "03f35da1-3f86-4971-9671-e6f346de7736",
   "metadata": {},
   "outputs": [],
   "source": [
    "def process_youtube(url):\n",
    "    print(\"Downloading\")\n",
    "    audio_file = download_youtube_audio(url,\".\")\n",
    "    print(\"Extracting Audio\")\n",
    "    segments = split_mp3(audio_file,\"audio\",29)\n",
    "    print(\"Converting to text\")\n",
    "    return segments\n",
    "    # decoded = decode_audio(segments)\n",
    "    # return decoded"
   ]
  },
  {
   "cell_type": "code",
   "execution_count": 8,
   "id": "a77d31b3",
   "metadata": {},
   "outputs": [],
   "source": [
    "url = \"https://www.youtube.com/watch?v=rteFpZi__Bo\""
   ]
  },
  {
   "cell_type": "code",
   "execution_count": 40,
   "id": "2f9cf8e6-3fc2-4293-b088-6bba397adbee",
   "metadata": {},
   "outputs": [
    {
     "name": "stdout",
     "output_type": "stream",
     "text": [
      "Downloading\n",
      "MoviePy - Writing audio in ./PAULO MUZY REVELOU OS 6 MAIORES MITOS DA CREATINA !!!.mp3\n"
     ]
    },
    {
     "name": "stderr",
     "output_type": "stream",
     "text": [
      "                                                                                                                                                              \r"
     ]
    },
    {
     "name": "stdout",
     "output_type": "stream",
     "text": [
      "MoviePy - Done.\n",
      "Audio downloaded and saved as ./PAULO MUZY REVELOU OS 6 MAIORES MITOS DA CREATINA !!!.mp3\n",
      "Extracting Audio\n",
      "Segment 1 saved as audio/segment_00001.mp3\n",
      "Segment 2 saved as audio/segment_00002.mp3\n",
      "Segment 3 saved as audio/segment_00003.mp3\n",
      "Segment 4 saved as audio/segment_00004.mp3\n",
      "Segment 5 saved as audio/segment_00005.mp3\n",
      "Segment 6 saved as audio/segment_00006.mp3\n",
      "Segment 7 saved as audio/segment_00007.mp3\n",
      "Segment 8 saved as audio/segment_00008.mp3\n",
      "Segment 9 saved as audio/segment_00009.mp3\n",
      "Segment 10 saved as audio/segment_00010.mp3\n",
      "Segment 11 saved as audio/segment_00011.mp3\n",
      "Segment 12 saved as audio/segment_00012.mp3\n",
      "Segment 13 saved as audio/segment_00013.mp3\n",
      "Segment 14 saved as audio/segment_00014.mp3\n",
      "Segment 15 saved as audio/segment_00015.mp3\n",
      "Segment 16 saved as audio/segment_00016.mp3\n",
      "Segment 17 saved as audio/segment_00017.mp3\n",
      "Segment 18 saved as audio/segment_00018.mp3\n",
      "Segment 19 saved as audio/segment_00019.mp3\n",
      "Segment 20 saved as audio/segment_00020.mp3\n",
      "Segment 21 saved as audio/segment_00021.mp3\n",
      "Segment 22 saved as audio/segment_00022.mp3\n",
      "Converting to text\n"
     ]
    }
   ],
   "source": [
    "segments = process_youtube(url)"
   ]
  },
  {
   "cell_type": "code",
   "execution_count": 41,
   "id": "7967e9ab-1f78-4eb3-bae7-d8da33d31f22",
   "metadata": {},
   "outputs": [
    {
     "name": "stdout",
     "output_type": "stream",
     "text": [
      "Loading model\n"
     ]
    },
    {
     "name": "stderr",
     "output_type": "stream",
     "text": [
      "Extracting texts from segments: 100%|█████████████████████████████████████████████████████████████████████████████████████████| 22/22 [05:06<00:00, 13.94s/it]\n"
     ]
    }
   ],
   "source": [
    "decoded = decode_audio(segments)"
   ]
  },
  {
   "cell_type": "code",
   "execution_count": 42,
   "id": "f6e5c848-78f7-4386-b39c-582ad15fe45b",
   "metadata": {},
   "outputs": [
    {
     "data": {
      "text/html": [
       "<div>\n",
       "<style scoped>\n",
       "    .dataframe tbody tr th:only-of-type {\n",
       "        vertical-align: middle;\n",
       "    }\n",
       "\n",
       "    .dataframe tbody tr th {\n",
       "        vertical-align: top;\n",
       "    }\n",
       "\n",
       "    .dataframe thead th {\n",
       "        text-align: right;\n",
       "    }\n",
       "</style>\n",
       "<table border=\"1\" class=\"dataframe\">\n",
       "  <thead>\n",
       "    <tr style=\"text-align: right;\">\n",
       "      <th></th>\n",
       "      <th>start_time</th>\n",
       "      <th>end_time</th>\n",
       "      <th>audio_file</th>\n",
       "      <th>text</th>\n",
       "    </tr>\n",
       "  </thead>\n",
       "  <tbody>\n",
       "    <tr>\n",
       "      <th>0</th>\n",
       "      <td>0.0</td>\n",
       "      <td>29.0</td>\n",
       "      <td>audio/segment_00001.mp3</td>\n",
       "      <td>Fala galera da Max Paul Muzio aqui, e olha só,...</td>\n",
       "    </tr>\n",
       "    <tr>\n",
       "      <th>1</th>\n",
       "      <td>28.0</td>\n",
       "      <td>58.0</td>\n",
       "      <td>audio/segment_00002.mp3</td>\n",
       "      <td>que essas pessoas depois elas tinham a sua cap...</td>\n",
       "    </tr>\n",
       "    <tr>\n",
       "      <th>2</th>\n",
       "      <td>56.0</td>\n",
       "      <td>87.0</td>\n",
       "      <td>audio/segment_00003.mp3</td>\n",
       "      <td>da creatina em doses até maiores do que aquele...</td>\n",
       "    </tr>\n",
       "    <tr>\n",
       "      <th>3</th>\n",
       "      <td>84.0</td>\n",
       "      <td>116.0</td>\n",
       "      <td>audio/segment_00004.mp3</td>\n",
       "      <td>a caixinha, mesmo que você não faça exercício,...</td>\n",
       "    </tr>\n",
       "    <tr>\n",
       "      <th>4</th>\n",
       "      <td>112.0</td>\n",
       "      <td>145.0</td>\n",
       "      <td>audio/segment_00005.mp3</td>\n",
       "      <td>massa muscular até uma certa idade e que o env...</td>\n",
       "    </tr>\n",
       "  </tbody>\n",
       "</table>\n",
       "</div>"
      ],
      "text/plain": [
       "   start_time  end_time               audio_file  \\\n",
       "0         0.0      29.0  audio/segment_00001.mp3   \n",
       "1        28.0      58.0  audio/segment_00002.mp3   \n",
       "2        56.0      87.0  audio/segment_00003.mp3   \n",
       "3        84.0     116.0  audio/segment_00004.mp3   \n",
       "4       112.0     145.0  audio/segment_00005.mp3   \n",
       "\n",
       "                                                text  \n",
       "0  Fala galera da Max Paul Muzio aqui, e olha só,...  \n",
       "1  que essas pessoas depois elas tinham a sua cap...  \n",
       "2  da creatina em doses até maiores do que aquele...  \n",
       "3  a caixinha, mesmo que você não faça exercício,...  \n",
       "4  massa muscular até uma certa idade e que o env...  "
      ]
     },
     "execution_count": 42,
     "metadata": {},
     "output_type": "execute_result"
    }
   ],
   "source": [
    "# Visualizando o conteúdo extraído.\n",
    "df = pd.DataFrame(decoded)\n",
    "df.head()"
   ]
  },
  {
   "cell_type": "markdown",
   "id": "59861bc5-9c01-4c31-b2f6-d227ced170b5",
   "metadata": {},
   "source": [
    "# Vextex AI Setup"
   ]
  },
  {
   "cell_type": "code",
   "execution_count": null,
   "id": "9486ab72",
   "metadata": {},
   "outputs": [],
   "source": [
    "# GCP Initialization \n",
    "!gcloud init \n",
    "!gcloud services enable aiplatform.googleapis.com     \n",
    "!gcloud auth application-default set-quota-project os.environ['GCP_PROJECT_ID']"
   ]
  },
  {
   "cell_type": "code",
   "execution_count": 9,
   "id": "adaec0fa-cdf5-4735-ba14-c042b7cba4da",
   "metadata": {},
   "outputs": [],
   "source": [
    "# Setup do projeto no Vertex AI\n",
    "import vertexai\n",
    "vertexai.init(project = os.environ['GCP_PROJECT_ID'],\n",
    "              location = os.environ['GCP_REGION_ID'])"
   ]
  },
  {
   "cell_type": "markdown",
   "id": "dcc796ad",
   "metadata": {},
   "source": [
    "### Gerando embeddings"
   ]
  },
  {
   "cell_type": "code",
   "execution_count": 10,
   "id": "a0c7d8f0-3cd6-4ae1-b122-991954f2ad6c",
   "metadata": {},
   "outputs": [],
   "source": [
    "from vertexai.preview.language_models import TextEmbeddingModel\n",
    "model = TextEmbeddingModel.from_pretrained(\"textembedding-gecko@001\")"
   ]
  },
  {
   "cell_type": "code",
   "execution_count": 11,
   "id": "82d1f7c2-edea-4eca-b9ab-df89f5332b18",
   "metadata": {},
   "outputs": [],
   "source": [
    "emb = model.get_embeddings([\"Astra DB é um banco de dados de vetores baseado no Apache Cassandra\"])[0].values"
   ]
  },
  {
   "cell_type": "code",
   "execution_count": 12,
   "id": "9969bbc3-5f70-4720-ad1f-3ff9ae76ce5c",
   "metadata": {},
   "outputs": [
    {
     "data": {
      "text/plain": [
       "768"
      ]
     },
     "execution_count": 12,
     "metadata": {},
     "output_type": "execute_result"
    }
   ],
   "source": [
    "len(emb)"
   ]
  },
  {
   "cell_type": "code",
   "execution_count": 13,
   "id": "72cc0615",
   "metadata": {},
   "outputs": [
    {
     "data": {
      "text/plain": [
       "[-0.08548425137996674,\n",
       " -0.020405586808919907,\n",
       " -0.012789517641067505,\n",
       " 0.012251014821231365,\n",
       " 0.06244432553648949,\n",
       " -0.05537176504731178,\n",
       " -0.003829806111752987,\n",
       " -0.02250230312347412,\n",
       " -0.033818479627370834,\n",
       " -0.025387773290276527]"
      ]
     },
     "execution_count": 13,
     "metadata": {},
     "output_type": "execute_result"
    }
   ],
   "source": [
    "emb[:10]"
   ]
  },
  {
   "cell_type": "code",
   "execution_count": 14,
   "id": "f18afc8f-4093-4bbb-b91d-5cad6b1cb154",
   "metadata": {},
   "outputs": [],
   "source": [
    "def get_embedding(text):\n",
    "    return model.get_embeddings([text])[0].values"
   ]
  },
  {
   "cell_type": "markdown",
   "id": "adba904b",
   "metadata": {},
   "source": [
    "# DataStax Astra DB Vector\n",
    "\n",
    "Para utilizar o Astra DB Vector, instalaremos a lib ASTRAPY"
   ]
  },
  {
   "cell_type": "code",
   "execution_count": null,
   "id": "6298c1d8",
   "metadata": {},
   "outputs": [],
   "source": [
    "pip install astrapy --quiet --upgrade"
   ]
  },
  {
   "cell_type": "code",
   "execution_count": 15,
   "id": "241e4746",
   "metadata": {},
   "outputs": [],
   "source": [
    "from astrapy.db import AstraDB"
   ]
  },
  {
   "cell_type": "code",
   "execution_count": 16,
   "id": "6a50ad93",
   "metadata": {},
   "outputs": [],
   "source": [
    "from getpass import getpass"
   ]
  },
  {
   "cell_type": "code",
   "execution_count": 17,
   "id": "e3ea8a7a",
   "metadata": {},
   "outputs": [
    {
     "name": "stdout",
     "output_type": "stream",
     "text": [
      "ASTRA_DB_API_ENDPOINT = https://b0748576-a92d-4682-86b0-13a0a04fb4dd-us-east1.apps.astra.datastax.com\n",
      "ASTRA_DB_APPLICATION_TOKEN = ········\n"
     ]
    }
   ],
   "source": [
    "ASTRA_DB_API_ENDPOINT = input(\"ASTRA_DB_API_ENDPOINT = \")\n",
    "ASTRA_DB_APPLICATION_TOKEN = getpass(\"ASTRA_DB_APPLICATION_TOKEN = \")"
   ]
  },
  {
   "cell_type": "code",
   "execution_count": 18,
   "id": "57245109",
   "metadata": {},
   "outputs": [],
   "source": [
    "# Criando o client\n",
    "astra_db = AstraDB(\n",
    "    api_endpoint=ASTRA_DB_API_ENDPOINT,\n",
    "    token=ASTRA_DB_APPLICATION_TOKEN,\n",
    ")"
   ]
  },
  {
   "cell_type": "code",
   "execution_count": null,
   "id": "07e9a520",
   "metadata": {},
   "outputs": [],
   "source": [
    "# collection_name=\"assistant_youtube\"\n",
    "# astra_db.delete_collection(collection_name)"
   ]
  },
  {
   "cell_type": "code",
   "execution_count": 19,
   "id": "c2616d76",
   "metadata": {},
   "outputs": [],
   "source": [
    "# Criando a collection\n",
    "collection_name=\"assistant_youtube\"\n",
    "collection = astra_db.create_collection(collection_name, \n",
    "                                        dimension=768, # Determinada pelo tamanho do embedding gerado pelo modelo\n",
    "                                        metric=\"DOT_PRODUCT\" # Métrica de similaridade => EUCLIDEAN, DOT_PRODUCT, COSINE\n",
    "                                       )"
   ]
  },
  {
   "cell_type": "code",
   "execution_count": 20,
   "id": "ac7cb681",
   "metadata": {},
   "outputs": [],
   "source": [
    "import urllib.parse as urlparse\n",
    "def get_video_id(url):\n",
    "    url_data = urlparse.urlparse(url)\n",
    "    query = urlparse.parse_qs(url_data.query)\n",
    "    return query[\"v\"][0]"
   ]
  },
  {
   "cell_type": "code",
   "execution_count": 51,
   "id": "db58cfef",
   "metadata": {},
   "outputs": [
    {
     "data": {
      "text/plain": [
       "Astra DB Collection[name=\"assistant_youtube\", endpoint=\"https://b0748576-a92d-4682-86b0-13a0a04fb4dd-us-east1.apps.astra.datastax.com\"]"
      ]
     },
     "execution_count": 51,
     "metadata": {},
     "output_type": "execute_result"
    }
   ],
   "source": [
    "# Removendo todos os dados (se necessário)\n",
    "# collection_name=\"assistant_youtube\"\n",
    "# astra_db.truncate_collection(collection_name)"
   ]
  },
  {
   "cell_type": "code",
   "execution_count": 52,
   "id": "3a7daee8",
   "metadata": {},
   "outputs": [
    {
     "name": "stdout",
     "output_type": "stream",
     "text": [
      "CPU times: user 3 µs, sys: 2 µs, total: 5 µs\n",
      "Wall time: 10 µs\n"
     ]
    },
    {
     "name": "stderr",
     "output_type": "stream",
     "text": [
      "Loading DF: 100%|█████████████████████████████████████████████████████████████████████████████████████████████████████████████| 22/22 [00:13<00:00,  1.69it/s]"
     ]
    },
    {
     "name": "stdout",
     "output_type": "stream",
     "text": [
      "Finished\n"
     ]
    },
    {
     "name": "stderr",
     "output_type": "stream",
     "text": [
      "\n"
     ]
    }
   ],
   "source": [
    "%time\n",
    "# Insere os chunks do video no Astra DB Vector \n",
    "\n",
    "for index, row in tqdm(df.iterrows(), total=df.shape[0], desc=f'Loading DF'):\n",
    "    try:            \n",
    "        v_doc = {\n",
    "            \"_id\": f\"{get_video_id(url)}#{str(index).rjust(3,'0')}\",\n",
    "            \"content\": row[\"text\"],\n",
    "            \"metadata\" : {\n",
    "                \"influencer\": \"Paulo Muzy\",\n",
    "                \"source\": f\"{url}&t={row['start_time']:.0f}\",\n",
    "            },\n",
    "            \"$vector\": get_embedding(row[\"text\"]),\n",
    "        }\n",
    "\n",
    "        response = collection.insert_one(v_doc)\n",
    "        #print(response)        \n",
    "    except Exception as e:\n",
    "        print(f\"Error at IX {index}\", e)\n",
    "\n",
    "print(\"Finished\")"
   ]
  },
  {
   "cell_type": "markdown",
   "id": "699bec5b",
   "metadata": {},
   "source": [
    "## Busca semântica"
   ]
  },
  {
   "cell_type": "code",
   "execution_count": 45,
   "id": "8488b30b",
   "metadata": {},
   "outputs": [],
   "source": [
    "query = \"A creatina faz mal?\""
   ]
  },
  {
   "cell_type": "code",
   "execution_count": 46,
   "id": "524c7155",
   "metadata": {},
   "outputs": [
    {
     "data": {
      "text/html": [
       "<div>\n",
       "<style scoped>\n",
       "    .dataframe tbody tr th:only-of-type {\n",
       "        vertical-align: middle;\n",
       "    }\n",
       "\n",
       "    .dataframe tbody tr th {\n",
       "        vertical-align: top;\n",
       "    }\n",
       "\n",
       "    .dataframe thead th {\n",
       "        text-align: right;\n",
       "    }\n",
       "</style>\n",
       "<table border=\"1\" class=\"dataframe\">\n",
       "  <thead>\n",
       "    <tr style=\"text-align: right;\">\n",
       "      <th></th>\n",
       "      <th>_id</th>\n",
       "      <th>content</th>\n",
       "      <th>metadata</th>\n",
       "      <th>source</th>\n",
       "      <th>$vector</th>\n",
       "      <th>$similarity</th>\n",
       "    </tr>\n",
       "  </thead>\n",
       "  <tbody>\n",
       "    <tr>\n",
       "      <th>0</th>\n",
       "      <td>rteFpZi__Bo#015</td>\n",
       "      <td>O título do artigo é esse. A subunitação de cr...</td>\n",
       "      <td>{'influencer': 'Paulo Muzy'}</td>\n",
       "      <td>https://www.youtube.com/watch?v=rteFpZi__Bo&amp;t=420</td>\n",
       "      <td>[0.0024520978331565857, -0.0589134655892849, -...</td>\n",
       "      <td>0.877457</td>\n",
       "    </tr>\n",
       "    <tr>\n",
       "      <th>1</th>\n",
       "      <td>rteFpZi__Bo#001</td>\n",
       "      <td>que essas pessoas depois elas tinham a sua cap...</td>\n",
       "      <td>{'influencer': 'Paulo Muzy'}</td>\n",
       "      <td>https://www.youtube.com/watch?v=rteFpZi__Bo&amp;t=28</td>\n",
       "      <td>[-0.004914171528071165, -0.01098625548183918, ...</td>\n",
       "      <td>0.876461</td>\n",
       "    </tr>\n",
       "    <tr>\n",
       "      <th>2</th>\n",
       "      <td>rteFpZi__Bo#014</td>\n",
       "      <td>Porque parece assim, ah, mas você está falando...</td>\n",
       "      <td>{'influencer': 'Paulo Muzy'}</td>\n",
       "      <td>https://www.youtube.com/watch?v=rteFpZi__Bo&amp;t=392</td>\n",
       "      <td>[-0.008156763389706612, -0.022999338805675507,...</td>\n",
       "      <td>0.871836</td>\n",
       "    </tr>\n",
       "  </tbody>\n",
       "</table>\n",
       "</div>"
      ],
      "text/plain": [
       "               _id                                            content  \\\n",
       "0  rteFpZi__Bo#015  O título do artigo é esse. A subunitação de cr...   \n",
       "1  rteFpZi__Bo#001  que essas pessoas depois elas tinham a sua cap...   \n",
       "2  rteFpZi__Bo#014  Porque parece assim, ah, mas você está falando...   \n",
       "\n",
       "                       metadata  \\\n",
       "0  {'influencer': 'Paulo Muzy'}   \n",
       "1  {'influencer': 'Paulo Muzy'}   \n",
       "2  {'influencer': 'Paulo Muzy'}   \n",
       "\n",
       "                                              source  \\\n",
       "0  https://www.youtube.com/watch?v=rteFpZi__Bo&t=420   \n",
       "1   https://www.youtube.com/watch?v=rteFpZi__Bo&t=28   \n",
       "2  https://www.youtube.com/watch?v=rteFpZi__Bo&t=392   \n",
       "\n",
       "                                             $vector  $similarity  \n",
       "0  [0.0024520978331565857, -0.0589134655892849, -...     0.877457  \n",
       "1  [-0.004914171528071165, -0.01098625548183918, ...     0.876461  \n",
       "2  [-0.008156763389706612, -0.022999338805675507,...     0.871836  "
      ]
     },
     "execution_count": 46,
     "metadata": {},
     "output_type": "execute_result"
    }
   ],
   "source": [
    "# Executando uma busca com vector_find\n",
    "\n",
    "documents = collection.vector_find(\n",
    "    get_embedding(query), \n",
    "    limit=3,\n",
    "    # filter={\"influencer\": \"Paulo Muzy\"}, ## Filtrando documentos para melhor performance\n",
    "    # fields=[\"text\", \"$vector\"], ## Escolhendo os campos a serem retornados  \n",
    "    # include_similarity=False\n",
    ")\n",
    "\n",
    "df_vector_search = pd.DataFrame(documents)\n",
    "df_vector_search.head()"
   ]
  },
  {
   "cell_type": "markdown",
   "id": "81b3daa7-ca96-46ef-a6d8-d1137590b464",
   "metadata": {},
   "source": [
    "# Obtendo respostas\n",
    "\n",
    "Utilizando os modelos disponíveis no Vertex AI para gerar embeddings e textos."
   ]
  },
  {
   "cell_type": "code",
   "execution_count": 24,
   "id": "417fefb7-78ae-42a9-9f48-4ea402e10c12",
   "metadata": {},
   "outputs": [],
   "source": [
    "\n",
    "from vertexai.language_models import TextGenerationModel, \\\n",
    "                                     TextEmbeddingModel, \\\n",
    "                                     ChatModel, \\\n",
    "                                     InputOutputTextPair, \\\n",
    "                                     CodeGenerationModel, \\\n",
    "                                     CodeChatModel, \\\n",
    "                                    ChatMessage"
   ]
  },
  {
   "cell_type": "code",
   "execution_count": 25,
   "id": "49b564ba-a363-4c87-a94e-30ddaf7e7d1d",
   "metadata": {},
   "outputs": [],
   "source": [
    "generation_model = TextGenerationModel.from_pretrained(\"text-bison@001\")"
   ]
  },
  {
   "cell_type": "code",
   "execution_count": 26,
   "id": "34f8079c-ec06-4c07-877f-57be89c50015",
   "metadata": {},
   "outputs": [
    {
     "name": "stdout",
     "output_type": "stream",
     "text": [
      "A creatina é um composto orgânico que é produzido naturalmente no corpo humano e que também pode ser encontrado em alimentos como carne, peixe e aves. A creatina é usada pelo corpo para produzir energia, especialmente durante atividades físicas de alta intensidade.\n",
      "\n",
      "A creatina é um suplemento popular entre atletas e pessoas que se exercitam regularmente, pois pode ajudar a melhorar o desempenho físico e a recuperação muscular. Estudos mostram que a suplementação com creatina pode aumentar a força muscular, a potência e a resistência, além de reduzir o tempo de recuperação após o exercício.\n",
      "\n",
      "A creatina é geralmente considerada segura, mas algumas pessoas podem experimentar efeitos\n"
     ]
    }
   ],
   "source": [
    "# Testing the LLM\n",
    "query = \"O que é creatina?\"\n",
    "response = generation_model.predict(prompt=query)\n",
    "print(response.text)"
   ]
  },
  {
   "cell_type": "code",
   "execution_count": 27,
   "id": "df212875-7b3a-4113-bb8e-526489c68ed6",
   "metadata": {},
   "outputs": [],
   "source": [
    "def get_content(query):\n",
    "    content = \"\"\n",
    "    results = collection.vector_find(\n",
    "        get_embedding(query), \n",
    "        limit=3)\n",
    "    for r in results:\n",
    "        # print(f\"Conteúdo: {r['body_blob']}\")\n",
    "        # print(f\"Similaridade: {r['distance']}\")\n",
    "        # print(f\"Metadata: {r['metadata']}\\n\")\n",
    "        content += f\"\"\"Conteúdo: {r['text']}\n",
    "Source: {r['source']}\n",
    "        \n",
    "\"\"\"\n",
    "    return content\n",
    "    "
   ]
  },
  {
   "cell_type": "code",
   "execution_count": 28,
   "id": "6fd196d7-f713-4dcf-981a-bce6f2c322d2",
   "metadata": {
    "scrolled": true
   },
   "outputs": [
    {
     "name": "stdout",
     "output_type": "stream",
     "text": [
      "Prompt:\n",
      "Responda a pergunta do usuário de maneira simples com base somente no conteúdo abaixo. \n",
      "\n",
      "ORIGEM\n",
      "Conteúdo: que essas pessoas depois elas tinham a sua capacidade cognitiva e psicomotora medida. E o que foi encontrado? Foi encontrado que depois de 24 horas de privação do sono, a suplementação de creatina tinha um efeito positivo, principalmente no estado de humor das pessoas e nas tarefas que elas tinham que realizar. Isso é uma coisa que eu falo para vocês há algum tempo. Para alguns pacientes que eu tenho, eu uso creatina ou recomendo o uso da creatina em\n",
      "Source: https://www.youtube.com/watch?v=rteFpZi__Bo&t=28\n",
      "        \n",
      "Conteúdo: da creatina para conseguir melhorar a qualidade de vida e sintomas maiores quando você tem a doença na forma mais grave. Falando em gravidade, estudo do grupo do Lancha Junior, um rapaz chamado Carlos Ferraz, estudo exploratório sobre potenciais efeitos anti-câncer de creatina, ou seja, aqui a gente tem literatura\n",
      "Source: https://www.youtube.com/watch?v=rteFpZi__Bo&t=336\n",
      "        \n",
      "Conteúdo: isso. Falando sobre mecanismos que a creatina pode desenvolver que possivelmente tenha uma ação anti câncer. Ou seja, aquela história de creatina fazer mal, porque vai fazer mal para o rim, gente, pelo amor de Deus, ultrapassa isso. A gente está em outra fase, a gente está estudando creatina até em situações de prevenção de câncer, de doença neoplasma.\n",
      "Source: https://www.youtube.com/watch?v=rteFpZi__Bo&t=364\n",
      "        \n",
      "\n",
      "\n",
      "PERGUNTA:\n",
      "Quais os benefícios da creatina?\n",
      "A creatina pode melhorar a qualidade de vida e sintomas maiores quando você tem a doença na forma mais grave. A creatina também pode ter uma ação anti câncer.\n"
     ]
    }
   ],
   "source": [
    "query = \"Quais os benefícios da creatina?\"\n",
    "\n",
    "content = get_content(query)\n",
    "\n",
    "prompt = f\"\"\"Responda a pergunta do usuário de maneira simples com base somente no conteúdo abaixo. \n",
    "\n",
    "ORIGEM\n",
    "{content}\n",
    "\n",
    "PERGUNTA:\n",
    "{query}\"\"\"\n",
    "\n",
    "print(\"Prompt:\")\n",
    "print(prompt)\n",
    "\n",
    "response = generation_model.predict(prompt=prompt)\n",
    "\n",
    "print(response.text)"
   ]
  },
  {
   "cell_type": "markdown",
   "id": "e3d200ff-4e15-4272-8d95-aa0c56227b03",
   "metadata": {},
   "source": [
    "# Chat model\n",
    "\n",
    "Modelos de chat buscam lidar com histórico de mensagens"
   ]
  },
  {
   "cell_type": "code",
   "execution_count": 29,
   "id": "db479c65-b293-4a75-bd6b-1bce329bba52",
   "metadata": {},
   "outputs": [],
   "source": [
    "chat_model = ChatModel.from_pretrained(\"chat-bison@001\")\n",
    "\n",
    "content_chat = get_content(query)\n",
    "\n",
    "chat = chat_model.start_chat(\n",
    "    context=f\"\"\"Você responde de maneira divertida questões sobre suplementos alimentares, e se limita somente a este CONTEXT. \n",
    "    CONTEXT:\n",
    "    {content_chat}\n",
    "    \"\"\",\n",
    "    temperature=0.5,\n",
    "    max_output_tokens=300,\n",
    "    top_p=0.8,\n",
    "    top_k=4,\n",
    "    message_history = [\n",
    "            ChatMessage(content=\"Gostaria de tirar dúvidas sobre suplementos\", author=\"user\"),\n",
    "            ChatMessage(content=\"Ótimo, eu sou um agente que responde sobre suplementos alimentares e somente sobre isso\", author=\"bot\"),\n",
    "            ]\n",
    ")"
   ]
  },
  {
   "cell_type": "code",
   "execution_count": 30,
   "id": "9d45ff6f-731b-4ca3-b067-aecda692b8fc",
   "metadata": {},
   "outputs": [
    {
     "data": {
      "text/plain": [
       "Não, a creatina não faz mal, muito pelo contrário, ela é um suplemento muito seguro e que pode trazer muitos benefícios para a saúde."
      ]
     },
     "execution_count": 30,
     "metadata": {},
     "output_type": "execute_result"
    }
   ],
   "source": [
    "query = \"A creatina faz mal?\"\n",
    "res = chat.send_message(query)\n",
    "res"
   ]
  },
  {
   "cell_type": "markdown",
   "id": "b256358d-c2ed-438b-8988-42b03aafcbbf",
   "metadata": {},
   "source": [
    "# Com LangChain\n",
    "\n",
    "Langchain é o framework mais utilizado atualmente para o desenvolvimento de aplicações IA Generativa."
   ]
  },
  {
   "cell_type": "code",
   "execution_count": 61,
   "id": "95d0c3d2",
   "metadata": {},
   "outputs": [],
   "source": [
    "# Importamos o Astra DB como Vector Store\n",
    "from langchain.vectorstores import AstraDB"
   ]
  },
  {
   "cell_type": "code",
   "execution_count": 32,
   "id": "819e7366-5e76-4026-9658-a53b6658df24",
   "metadata": {},
   "outputs": [],
   "source": [
    "from langchain.llms import VertexAI\n",
    "from langchain.chat_models import ChatVertexAI\n",
    "from langchain.embeddings import VertexAIEmbeddings\n",
    "from langchain.indexes.vectorstore import VectorStoreIndexWrapper"
   ]
  },
  {
   "cell_type": "code",
   "execution_count": 33,
   "id": "367ac3f1-156c-4ef7-9b52-8a7d2ea919da",
   "metadata": {},
   "outputs": [
    {
     "name": "stdout",
     "output_type": "stream",
     "text": [
      " Os suplementos alimentares são produtos destinados a complementar a dieta alimentar e que contêm nutrientes como vitaminas, minerais, fibras alimentares, aminoácidos, ácidos graxos essenciais e outras substâncias com efeito fisiológico. Eles podem ser encontrados em diversas formas, como comprimidos, cápsulas, pós, líquidos e barras.\n",
      "\n",
      "Os suplementos alimentares não são medicamentos e não devem ser usados para tratar ou prevenir doenças. No entanto, eles podem ser úteis para pessoas que não conseguem obter os nutrientes necessários apenas com a dieta alimentar. Por exemplo, pessoas que seguem dietas restritivas, como vegetarianos e veganos, podem precisar de suplementos\n"
     ]
    }
   ],
   "source": [
    "llm = VertexAI()\n",
    "print(llm(\"O que são suplementos alimentares?\"))"
   ]
  },
  {
   "cell_type": "code",
   "execution_count": 34,
   "id": "620ccc28-8b4f-417b-90c4-23b81b920973",
   "metadata": {},
   "outputs": [],
   "source": [
    "embedding_generator = VertexAIEmbeddings()"
   ]
  },
  {
   "cell_type": "code",
   "execution_count": 54,
   "id": "055f76a6-6f93-4051-954a-85fde3e2c6e4",
   "metadata": {},
   "outputs": [],
   "source": [
    "AstraVectorStore = AstraDB(\n",
    "    embedding=embedding_generator,\n",
    "    collection_name=collection_name,\n",
    "    api_endpoint=ASTRA_DB_API_ENDPOINT,\n",
    "    token=ASTRA_DB_APPLICATION_TOKEN,\n",
    "    metric=\"DOT_PRODUCT\"\n",
    ")\n",
    "\n",
    "index = VectorStoreIndexWrapper(\n",
    "    vectorstore=AstraVectorStore\n",
    ")"
   ]
  },
  {
   "cell_type": "code",
   "execution_count": 59,
   "id": "389473f4-0236-4fe2-962b-11d97614313e",
   "metadata": {},
   "outputs": [
    {
     "name": "stdout",
     "output_type": "stream",
     "text": [
      "\n",
      "Resposta com o query_with_sources:\n",
      "A creatina faz mal?\n",
      "\n",
      "\n",
      "\u001b[1m> Entering new RetrievalQAWithSourcesChain chain...\u001b[0m\n",
      "\n",
      "\u001b[1m> Finished chain.\u001b[0m\n",
      "{'question': 'A creatina faz mal?', 'answer': ' Não há evidências de que a creatina seja prejudicial.\\n', 'sources': 'https://www.youtube.com/watch?v=rteFpZi__Bo&t=420, https://www.youtube.com/watch?v=rteFpZi__Bo&t=28, https://www.youtube.com/watch?v=rteFpZi__Bo&t=392, https://www.youtube.com/watch?v=rteFpZi__Bo&t=280'}\n"
     ]
    }
   ],
   "source": [
    "from langchain.globals import set_debug\n",
    "set_debug(False)\n",
    "print(\"\\nResposta com o query_with_sources:\")\n",
    "print(query)\n",
    "print(index.query_with_sources(question=query, verbose=True))"
   ]
  },
  {
   "cell_type": "code",
   "execution_count": 56,
   "id": "7ebcd182-a234-451f-bf8e-1bf965bc6b72",
   "metadata": {},
   "outputs": [],
   "source": [
    "set_debug(False)\n",
    "from langchain.chains.retrieval_qa.base import RetrievalQA\n",
    "from langchain import PromptTemplate\n",
    "\n",
    "prompt_template = \"\"\"\n",
    "Given the following extracted parts of a long document and a question, create a final answer with references (\"SOURCES\"). \n",
    "If you don't know the answer, just say that you don't know. Don't try to make up an answer.\n",
    "ALWAYS return a \"SOURCES\" part in your answer. Answer in Portuguese.\n",
    "\n",
    "\n",
    "QUESTION: {question}\n",
    "=========\n",
    "{summaries}\n",
    "=========\n",
    "FINAL ANSWER:\"\"\"\n",
    "PROMPT = PromptTemplate(\n",
    "    template=prompt_template, input_variables=[\"summaries\", \"question\"]\n",
    ")"
   ]
  },
  {
   "cell_type": "code",
   "execution_count": 58,
   "id": "bc8a6c77-9cca-41ff-8b38-91b5b084a966",
   "metadata": {},
   "outputs": [
    {
     "name": "stdout",
     "output_type": "stream",
     "text": [
      " Não, a creatina não faz mal. Pelo contrário, ela pode até mesmo trazer benefícios para a saúde, como melhora do humor e da função cognitiva. \n",
      "Alguns estudos mostram que a creatina pode causar problemas renais em pacientes que fazem treinamento resistido e consomem dietas hiperproteicas. No entanto, esses estudos são limitados e não há evidências suficientes para afirmar que a creatina é prejudicial aos rins. \n",
      "De acordo com o Dr. Lair Ribeiro, a creatina é uma molécula sensacional, que tem uma série de aplicações. Ele recomenda o uso da creatina para\n"
     ]
    }
   ],
   "source": [
    "set_debug(False)\n",
    "retrieverSim = AstraVectorStore.as_retriever(search_kwargs={\"k\": 3})\n",
    "# Create a \"RetrievalQA\" chain\n",
    "chainSim = RetrievalQA.from_chain_type(\n",
    "    llm=llm,\n",
    "    retriever=retrieverSim,\n",
    "    chain_type_kwargs={\n",
    "        'prompt': PROMPT,\n",
    "        'document_variable_name': 'summaries'\n",
    "    }\n",
    ")\n",
    "# Run it and print results\n",
    "responseSim = chainSim.run(query)\n",
    "print(responseSim)"
   ]
  },
  {
   "cell_type": "code",
   "execution_count": null,
   "id": "d7550330-f33a-4093-a35f-a0cbf10f4060",
   "metadata": {},
   "outputs": [],
   "source": []
  }
 ],
 "metadata": {
  "kernelspec": {
   "display_name": "Python 3 (ipykernel)",
   "language": "python",
   "name": "python3"
  },
  "language_info": {
   "codemirror_mode": {
    "name": "ipython",
    "version": 3
   },
   "file_extension": ".py",
   "mimetype": "text/x-python",
   "name": "python",
   "nbconvert_exporter": "python",
   "pygments_lexer": "ipython3",
   "version": "3.9.4"
  }
 },
 "nbformat": 4,
 "nbformat_minor": 5
}
