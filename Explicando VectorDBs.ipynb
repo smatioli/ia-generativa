{
 "cells": [
  {
   "cell_type": "markdown",
   "id": "abcb1df3-9a2f-488d-b849-27e9f1490ea9",
   "metadata": {},
   "source": [
    "# Explicando Vector DBs\n",
    "\n",
    "Neste exemplo, vamos criar uma tabela, carregar alguns textos e procurar por similaridade.\n",
    "\n",
    "Utilizaremos os modelos da OpenAI para gerar embeddings e respostas.\n",
    "\n",
    "Os dados vetorizados serão armazenados no Astra/Cassandra para busca baseada na similaridade de vetores (Vector Search)."
   ]
  },
  {
   "cell_type": "markdown",
   "id": "26fd02e3-937c-4a36-8b0c-efcbfda6bca8",
   "metadata": {},
   "source": [
    "## Configurando ambiente\n",
    "\n",
    "Inicialmente, vamos instalar e configurar o ambiente para execução dos modelos"
   ]
  },
  {
   "cell_type": "code",
   "execution_count": null,
   "id": "9323a946-3fe3-4422-9d2e-335c0359be4b",
   "metadata": {},
   "outputs": [],
   "source": [
    "pip install openai cassio --upgrade "
   ]
  },
  {
   "cell_type": "code",
   "execution_count": 8,
   "id": "3a7ed542-8ddf-4e70-b03d-39853fa4392b",
   "metadata": {},
   "outputs": [
    {
     "data": {
      "text/plain": [
       "True"
      ]
     },
     "execution_count": 8,
     "metadata": {},
     "output_type": "execute_result"
    }
   ],
   "source": [
    "# Carregando variáveis de ambiente\n",
    "from dotenv import load_dotenv, find_dotenv\n",
    "import os\n",
    "load_dotenv(find_dotenv(), override=True)"
   ]
  },
  {
   "cell_type": "markdown",
   "id": "d68b4d8f-e1f2-4db6-a600-5bcc764efd08",
   "metadata": {},
   "source": [
    "## Conectando ao Astra/Cassandra\n",
    "\n",
    "Para utilizar o Cassandra como Vector DB, crie um banco de dados com suporte a vvector search em astra.datastax.com, gere um token de conexão e identifique o seu DB ID. Com isso, execute o comando abaixo para criar a conexão"
   ]
  },
  {
   "cell_type": "code",
   "execution_count": 2,
   "id": "3b977126-a3e5-48ab-8801-87a57034e38e",
   "metadata": {},
   "outputs": [],
   "source": [
    "import cassio\n",
    "\n",
    "cassio.init(token=os.environ[\"ASTRA_DB_APPLICATION_TOKEN\"], database_id=os.environ[\"ASTRA_DB_ID\"])"
   ]
  },
  {
   "cell_type": "markdown",
   "id": "de8559d8-a667-4339-be3c-a683c08abce2",
   "metadata": {},
   "source": [
    "Pronto!\n",
    "\n",
    "A conexão com o Astra é muito simples e você já pode armazenar seus documentos."
   ]
  },
  {
   "cell_type": "markdown",
   "id": "d34f4f2d-98d9-4cef-8db3-c12de364ef53",
   "metadata": {},
   "source": [
    "## Criando a tabela/índice no Astra\n",
    "\n",
    "A estrutura no banco de dados que vai armazenar os dados, no caso do Astra/Cassandra, são as tabelas.\n",
    "\n",
    "O Astra possui uma modelagem baseada em partições que permite escalar os dados até terabytes e milhões de registros.\n",
    "\n",
    "Além disso, os índices possibilitam queries com suporte a vector search, como veremos a seguir"
   ]
  },
  {
   "cell_type": "code",
   "execution_count": 4,
   "id": "1056f203-c081-4df7-b2ba-4c25c2c60dc4",
   "metadata": {},
   "outputs": [],
   "source": [
    "# Criando a tabela\n",
    "from cassio.table.tables import MetadataVectorCassandraTable\n",
    "\n",
    "vector_table = MetadataVectorCassandraTable(\n",
    "    keyspace=\"demo\",\n",
    "    table=\"product_vector\",\n",
    "    vector_dimension=1536,\n",
    ")"
   ]
  },
  {
   "cell_type": "markdown",
   "id": "64b15869-9eb1-496b-ad82-9ca327b8bb23",
   "metadata": {},
   "source": [
    "## Embeddings\n",
    "\n",
    "Vamos converter nossa base de documentos em embeddings. \n",
    "\n",
    "Se você não sabe o que são embeddings, assista aqui: https://www.youtube.com/watch?v=fvRyziDmvoA\n",
    "\n",
    "Vamos gerar embeddings para 2 produtos"
   ]
  },
  {
   "cell_type": "code",
   "execution_count": 12,
   "id": "c1f0b72b-d2f6-4b1f-81d4-122e59bbc745",
   "metadata": {},
   "outputs": [],
   "source": [
    "# Inicializando a OpenAI\n",
    "import openai\n",
    "openai.api_key = os.environ[\"OPENAI_API_KEY\"]\n",
    "\n",
    "def generate_embedding(text):\n",
    "    model = \"text-embedding-ada-002\"\n",
    "    response = openai.Embedding.create(model=model, input=text)\n",
    "    return response.data[0]['embedding']\n"
   ]
  },
  {
   "cell_type": "code",
   "execution_count": 15,
   "id": "61e7bc01-592b-4874-b308-56dc2e5f0e18",
   "metadata": {},
   "outputs": [
    {
     "data": {
      "text/plain": [
       "'iphone 15, 256GB, Azul'"
      ]
     },
     "execution_count": 15,
     "metadata": {},
     "output_type": "execute_result"
    }
   ],
   "source": [
    "rs = vector_table.get(row_id=product_id)\n",
    "rs[\"body_blob\"]"
   ]
  },
  {
   "cell_type": "markdown",
   "id": "fbaf51a7-637b-4bbc-8dc8-9c0b9433a513",
   "metadata": {},
   "source": [
    "## Inserindo produtos"
   ]
  },
  {
   "cell_type": "code",
   "execution_count": 16,
   "id": "a1e31600-2298-4ea3-9214-fbfb2885c08c",
   "metadata": {},
   "outputs": [
    {
     "data": {
      "text/plain": [
       "'iphone 15, 256GB, Azul'"
      ]
     },
     "execution_count": 16,
     "metadata": {},
     "output_type": "execute_result"
    }
   ],
   "source": [
    "product_description = \"iphone 15, 256GB, Azul\"\n",
    "product_id = \"prod1\"\n",
    "vector_table.put_async(\n",
    "    body_blob=product_description,\n",
    "    vector=generate_embedding(product_description),\n",
    "    row_id=product_id,\n",
    "    metadata={\"id\": product_id}\n",
    ")\n",
    "\n",
    "#Verificando se o registro foi inserido\n",
    "rs = vector_table.get(row_id=product_id)\n",
    "rs[\"body_blob\"]"
   ]
  },
  {
   "cell_type": "code",
   "execution_count": 17,
   "id": "d8d3d740-fbed-4463-bdcc-750917404c0c",
   "metadata": {},
   "outputs": [
    {
     "data": {
      "text/plain": [
       "'Cadeira Gamer Giratória Royale Com Regulagem de Altura Preto/Cinza'"
      ]
     },
     "execution_count": 17,
     "metadata": {},
     "output_type": "execute_result"
    }
   ],
   "source": [
    "product_description = \"Cadeira Gamer Giratória Royale Com Regulagem de Altura Preto/Cinza\"\n",
    "product_id = \"prod2\"\n",
    "vector_table.put_async(\n",
    "    body_blob=product_description,\n",
    "    vector=generate_embedding(product_description),\n",
    "    row_id=product_id,\n",
    "    metadata={\"id\": product_id}\n",
    ")\n",
    "\n",
    "#Verificando se o registro foi inserido\n",
    "rs = vector_table.get(row_id=product_id)\n",
    "rs[\"body_blob\"]"
   ]
  },
  {
   "cell_type": "markdown",
   "id": "45f7373a-a061-459f-a53f-0633e5f8d93e",
   "metadata": {},
   "source": [
    "## Agora que já inserimos 2 produtos, vamos buscar por similaridade"
   ]
  },
  {
   "cell_type": "code",
   "execution_count": 21,
   "id": "381a1835-e68a-4502-8546-0e757988741e",
   "metadata": {},
   "outputs": [
    {
     "name": "stdout",
     "output_type": "stream",
     "text": [
      "iphone 15, 256GB, Azul\n"
     ]
    }
   ],
   "source": [
    "q = \"Smartphone cinza\"\n",
    "results = vector_table.ann_search(n=1, vector=generate_embedding(q))\n",
    "for r in results:\n",
    "    print(r['body_blob'])"
   ]
  },
  {
   "cell_type": "code",
   "execution_count": null,
   "id": "d10b48e7-45cc-401c-aaaf-a0ef89e0fca2",
   "metadata": {},
   "outputs": [],
   "source": []
  }
 ],
 "metadata": {
  "kernelspec": {
   "display_name": "Python 3 (ipykernel)",
   "language": "python",
   "name": "python3"
  },
  "language_info": {
   "codemirror_mode": {
    "name": "ipython",
    "version": 3
   },
   "file_extension": ".py",
   "mimetype": "text/x-python",
   "name": "python",
   "nbconvert_exporter": "python",
   "pygments_lexer": "ipython3",
   "version": "3.9.4"
  }
 },
 "nbformat": 4,
 "nbformat_minor": 5
}
